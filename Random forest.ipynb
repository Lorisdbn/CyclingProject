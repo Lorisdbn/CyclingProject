{
 "cells": [
  {
   "cell_type": "code",
   "execution_count": 1,
   "id": "40fb4ec8",
   "metadata": {},
   "outputs": [],
   "source": [
    "import pandas as pd\n",
    "import numpy as np\n",
    "import matplotlib.pyplot as plt\n",
    "from sklearn.ensemble import RandomForestRegressor\n",
    "from sklearn.linear_model import Lasso\n",
    "from sklearn.linear_model import LassoCV\n",
    "from sklearn.model_selection import train_test_split"
   ]
  },
  {
   "cell_type": "code",
   "execution_count": 25,
   "id": "7393b16f",
   "metadata": {},
   "outputs": [
    {
     "data": {
      "text/html": [
       "<div>\n",
       "<style scoped>\n",
       "    .dataframe tbody tr th:only-of-type {\n",
       "        vertical-align: middle;\n",
       "    }\n",
       "\n",
       "    .dataframe tbody tr th {\n",
       "        vertical-align: top;\n",
       "    }\n",
       "\n",
       "    .dataframe thead th {\n",
       "        text-align: right;\n",
       "    }\n",
       "</style>\n",
       "<table border=\"1\" class=\"dataframe\">\n",
       "  <thead>\n",
       "    <tr style=\"text-align: right;\">\n",
       "      <th></th>\n",
       "      <th>Counter_ID1</th>\n",
       "      <th>Counter_ID2</th>\n",
       "      <th>Counter_site_name</th>\n",
       "      <th>Hourly_counting</th>\n",
       "      <th>Latitude</th>\n",
       "      <th>Longitude</th>\n",
       "      <th>counting_year</th>\n",
       "      <th>counting_month</th>\n",
       "      <th>counting_day</th>\n",
       "      <th>counting_hour</th>\n",
       "      <th>counting_day_name</th>\n",
       "      <th>weekday</th>\n",
       "      <th>weekend</th>\n",
       "      <th>installation_year</th>\n",
       "      <th>installation_month</th>\n",
       "      <th>installation_day</th>\n",
       "    </tr>\n",
       "  </thead>\n",
       "  <tbody>\n",
       "    <tr>\n",
       "      <th>0</th>\n",
       "      <td>100003096</td>\n",
       "      <td>353242251</td>\n",
       "      <td>0</td>\n",
       "      <td>80</td>\n",
       "      <td>48.83504</td>\n",
       "      <td>2.33314</td>\n",
       "      <td>2023</td>\n",
       "      <td>4</td>\n",
       "      <td>1</td>\n",
       "      <td>7</td>\n",
       "      <td>0</td>\n",
       "      <td>0</td>\n",
       "      <td>1</td>\n",
       "      <td>2012.0</td>\n",
       "      <td>2.0</td>\n",
       "      <td>22.0</td>\n",
       "    </tr>\n",
       "    <tr>\n",
       "      <th>1</th>\n",
       "      <td>100003096</td>\n",
       "      <td>353242251</td>\n",
       "      <td>0</td>\n",
       "      <td>4</td>\n",
       "      <td>48.83504</td>\n",
       "      <td>2.33314</td>\n",
       "      <td>2023</td>\n",
       "      <td>4</td>\n",
       "      <td>1</td>\n",
       "      <td>3</td>\n",
       "      <td>0</td>\n",
       "      <td>0</td>\n",
       "      <td>1</td>\n",
       "      <td>2012.0</td>\n",
       "      <td>2.0</td>\n",
       "      <td>22.0</td>\n",
       "    </tr>\n",
       "    <tr>\n",
       "      <th>2</th>\n",
       "      <td>100003096</td>\n",
       "      <td>353242251</td>\n",
       "      <td>0</td>\n",
       "      <td>17</td>\n",
       "      <td>48.83504</td>\n",
       "      <td>2.33314</td>\n",
       "      <td>2023</td>\n",
       "      <td>4</td>\n",
       "      <td>1</td>\n",
       "      <td>5</td>\n",
       "      <td>0</td>\n",
       "      <td>0</td>\n",
       "      <td>1</td>\n",
       "      <td>2012.0</td>\n",
       "      <td>2.0</td>\n",
       "      <td>22.0</td>\n",
       "    </tr>\n",
       "    <tr>\n",
       "      <th>3</th>\n",
       "      <td>100003096</td>\n",
       "      <td>353242251</td>\n",
       "      <td>0</td>\n",
       "      <td>58</td>\n",
       "      <td>48.83504</td>\n",
       "      <td>2.33314</td>\n",
       "      <td>2023</td>\n",
       "      <td>4</td>\n",
       "      <td>1</td>\n",
       "      <td>8</td>\n",
       "      <td>0</td>\n",
       "      <td>0</td>\n",
       "      <td>1</td>\n",
       "      <td>2012.0</td>\n",
       "      <td>2.0</td>\n",
       "      <td>22.0</td>\n",
       "    </tr>\n",
       "    <tr>\n",
       "      <th>4</th>\n",
       "      <td>100003096</td>\n",
       "      <td>353242251</td>\n",
       "      <td>0</td>\n",
       "      <td>5</td>\n",
       "      <td>48.83504</td>\n",
       "      <td>2.33314</td>\n",
       "      <td>2023</td>\n",
       "      <td>4</td>\n",
       "      <td>1</td>\n",
       "      <td>4</td>\n",
       "      <td>0</td>\n",
       "      <td>0</td>\n",
       "      <td>1</td>\n",
       "      <td>2012.0</td>\n",
       "      <td>2.0</td>\n",
       "      <td>22.0</td>\n",
       "    </tr>\n",
       "  </tbody>\n",
       "</table>\n",
       "</div>"
      ],
      "text/plain": [
       "   Counter_ID1  Counter_ID2  Counter_site_name  Hourly_counting  Latitude  \\\n",
       "0    100003096    353242251                  0               80  48.83504   \n",
       "1    100003096    353242251                  0                4  48.83504   \n",
       "2    100003096    353242251                  0               17  48.83504   \n",
       "3    100003096    353242251                  0               58  48.83504   \n",
       "4    100003096    353242251                  0                5  48.83504   \n",
       "\n",
       "   Longitude  counting_year  counting_month  counting_day  counting_hour  \\\n",
       "0    2.33314           2023               4             1              7   \n",
       "1    2.33314           2023               4             1              3   \n",
       "2    2.33314           2023               4             1              5   \n",
       "3    2.33314           2023               4             1              8   \n",
       "4    2.33314           2023               4             1              4   \n",
       "\n",
       "   counting_day_name  weekday  weekend  installation_year  installation_month  \\\n",
       "0                  0        0        1             2012.0                 2.0   \n",
       "1                  0        0        1             2012.0                 2.0   \n",
       "2                  0        0        1             2012.0                 2.0   \n",
       "3                  0        0        1             2012.0                 2.0   \n",
       "4                  0        0        1             2012.0                 2.0   \n",
       "\n",
       "   installation_day  \n",
       "0              22.0  \n",
       "1              22.0  \n",
       "2              22.0  \n",
       "3              22.0  \n",
       "4              22.0  "
      ]
     },
     "execution_count": 25,
     "metadata": {},
     "output_type": "execute_result"
    }
   ],
   "source": [
    "# IMPORT THE DATASET\n",
    "\n",
    "df = pd.read_csv('df_processed.csv',sep=',',header=0,index_col=0)\n",
    "df.head()"
   ]
  },
  {
   "cell_type": "code",
   "execution_count": 21,
   "id": "93722e99-33e5-433a-bf9b-d371d9805ec2",
   "metadata": {},
   "outputs": [
    {
     "data": {
      "text/plain": [
       "Index(['Counter_ID1', 'Counter_ID2', 'Counter_site_name', 'Hourly_counting',\n",
       "       'Latitude', 'Longitude', 'counting_year', 'counting_month',\n",
       "       'counting_day', 'counting_hour', 'counting_day_name', 'weekday',\n",
       "       'weekend', 'installation_year', 'installation_month',\n",
       "       'installation_day'],\n",
       "      dtype='object')"
      ]
     },
     "execution_count": 21,
     "metadata": {},
     "output_type": "execute_result"
    }
   ],
   "source": [
    "df.columns"
   ]
  },
  {
   "cell_type": "code",
   "execution_count": 3,
   "id": "04392a55",
   "metadata": {},
   "outputs": [],
   "source": [
    "# SPLITTING FEATURE / TARGET VARIABLE AND TRAIN / TEST SETS\n",
    "\n",
    "feats = df.drop(['Hourly_counting'],axis=1)\n",
    "target = df['Hourly_counting']\n",
    "\n",
    "X_train,X_test,y_train,y_test = train_test_split(feats,target,test_size=0.2)"
   ]
  },
  {
   "cell_type": "code",
   "execution_count": 4,
   "id": "ad26f92b",
   "metadata": {},
   "outputs": [
    {
     "name": "stdout",
     "output_type": "stream",
     "text": [
      "Training time is: 629.8908522129059 seconds\n",
      "The score of train set 0.9800549377192965\n",
      "The score of test set 0.8993199015586812\n"
     ]
    }
   ],
   "source": [
    "# TRAINING THE RF MODEL\n",
    "\n",
    "import time\n",
    "start_time_train = time.time()\n",
    "rf_model = RandomForestRegressor(random_state=42)\n",
    "rf_model.fit(X_train,y_train)\n",
    "end_time_train = time.time()\n",
    "training_time = end_time_train - start_time_train\n",
    "\n",
    "# score of the model for train and test data\n",
    "print('Training time is:', training_time, 'seconds')\n",
    "print(f\"The score of train set {rf_model.score(X_train,y_train)}\")\n",
    "print(f\"The score of test set {rf_model.score(X_test,y_test)}\")"
   ]
  },
  {
   "cell_type": "code",
   "execution_count": 5,
   "id": "2883f1fb",
   "metadata": {
    "scrolled": true
   },
   "outputs": [
    {
     "name": "stdout",
     "output_type": "stream",
     "text": [
      "The R2 score for train is 0.9800549377192965\n",
      "The R2 score for test is 0.8993199015586812\n",
      "The mean_absolute_error for train set is 5.997724102466067\n",
      "The mean_absolute_error for test set is 14.529167397565752\n",
      "The mean_squared_error for train set is 219.82423850706402\n",
      "The mean_squared_error for test set is 1096.5786548410651\n"
     ]
    }
   ],
   "source": [
    "# RANDOM FOREST METRICS\n",
    "\n",
    "from sklearn.metrics import r2_score, mean_absolute_error, mean_squared_error\n",
    "\n",
    "# predict the Randomforest regressor\n",
    "yrf_pred_train = rf_model.predict(X_train)\n",
    "yrf_pred_test = rf_model.predict(X_test)\n",
    "\n",
    "# calculate R2 for the model\n",
    "rfmodel_r2_train = r2_score(y_train,yrf_pred_train)\n",
    "rfmodel_r2_test = r2_score(y_test,yrf_pred_test)\n",
    "\n",
    "# calculate the Mean absolute error and mean_squared error\n",
    "mae_train = mean_absolute_error(y_train,yrf_pred_train)\n",
    "mae_test = mean_absolute_error(y_test,yrf_pred_test)\n",
    "\n",
    "# calculate the mean squared error\n",
    "mse_train = mean_squared_error(y_train,yrf_pred_train)\n",
    "mse_test = mean_squared_error(y_test,yrf_pred_test)\n",
    "\n",
    "#Print R2 score\n",
    "print(f\"The R2 score for train is {rfmodel_r2_train}\")\n",
    "print(f\"The R2 score for test is {rfmodel_r2_test}\")\n",
    "print(f\"The mean_absolute_error for train set is {mae_train}\")\n",
    "print(f\"The mean_absolute_error for test set is {mae_test}\")\n",
    "print(f\"The mean_squared_error for train set is {mse_train}\")\n",
    "print(f\"The mean_squared_error for test set is {mse_test}\")"
   ]
  },
  {
   "cell_type": "code",
   "execution_count": 26,
   "id": "5f99a95f-db99-4563-892c-3f2c3039c449",
   "metadata": {},
   "outputs": [],
   "source": [
    "# Make the model training simpler\n",
    "\n",
    "df_2 = df[['Counter_site_name', 'Hourly_counting','Latitude','Longitude','counting_year','counting_month','counting_day','counting_hour', 'counting_day_name', 'weekday','weekend']]\n",
    "\n",
    "df.to_csv(\"C:/Users/loris/Desktop\\DA_project/Streamlit_app/df_model2.csv\")\n"
   ]
  },
  {
   "cell_type": "code",
   "execution_count": 27,
   "id": "039bbdb9-99e1-4b9e-b443-d6e569369345",
   "metadata": {},
   "outputs": [],
   "source": [
    "# SPLITTING FEATURE / TARGET VARIABLE AND TRAIN / TEST SETS\n",
    "\n",
    "feats = df_2.drop(['Hourly_counting'],axis=1)\n",
    "target = df_2['Hourly_counting']\n",
    "\n",
    "X_train,X_test,y_train,y_test = train_test_split(feats,target,test_size=0.2)"
   ]
  },
  {
   "cell_type": "code",
   "execution_count": 28,
   "id": "4427e3ca-039e-47a4-a627-294f1351f027",
   "metadata": {},
   "outputs": [
    {
     "name": "stdout",
     "output_type": "stream",
     "text": [
      "Training time is: 547.5059809684753 seconds\n",
      "The score of train set 0.9340630986380993\n",
      "The score of test set 0.7730210052725188\n"
     ]
    }
   ],
   "source": [
    "# TRAINING THE RF MODEL \n",
    "\n",
    "import time\n",
    "start_time_train = time.time()\n",
    "rf_model = RandomForestRegressor(random_state=42)\n",
    "rf_model.fit(X_train,y_train)\n",
    "end_time_train = time.time()\n",
    "training_time = end_time_train - start_time_train\n",
    "\n",
    "# score of the model for train and test data\n",
    "print('Training time is:', training_time, 'seconds')"
   ]
  },
  {
   "cell_type": "code",
   "execution_count": 29,
   "id": "a549b6eb-55d1-421b-b091-d2050a167d2a",
   "metadata": {},
   "outputs": [
    {
     "name": "stdout",
     "output_type": "stream",
     "text": [
      "The R2 score for train is 0.9340630986380993\n",
      "The R2 score for test is 0.7730210052725188\n",
      "The mean_absolute_error for train set is 11.599194261440738\n",
      "The mean_absolute_error for test set is 22.187904652994728\n",
      "The mean_squared_error for train set is 724.3430638295722\n",
      "The mean_squared_error for test set is 2504.9544350438596\n"
     ]
    }
   ],
   "source": [
    "# predict the Randomforest regressor\n",
    "yrf_pred_train = rf_model.predict(X_train)\n",
    "yrf_pred_test = rf_model.predict(X_test)\n",
    "\n",
    "# calculate R2 for the model\n",
    "rfmodel_r2_train = r2_score(y_train,yrf_pred_train)\n",
    "rfmodel_r2_test = r2_score(y_test,yrf_pred_test)\n",
    "\n",
    "# calculate the Mean absolute error and mean_squared error\n",
    "mae_train = mean_absolute_error(y_train,yrf_pred_train)\n",
    "mae_test = mean_absolute_error(y_test,yrf_pred_test)\n",
    "\n",
    "# calculate the mean squared error\n",
    "mse_train = mean_squared_error(y_train,yrf_pred_train)\n",
    "mse_test = mean_squared_error(y_test,yrf_pred_test)\n",
    "\n",
    "#Print R2 score\n",
    "print(f\"The R2 score for train is {rfmodel_r2_train}\")\n",
    "print(f\"The R2 score for test is {rfmodel_r2_test}\")\n",
    "print(f\"The mean_absolute_error for train set is {mae_train}\")\n",
    "print(f\"The mean_absolute_error for test set is {mae_test}\")\n",
    "print(f\"The mean_squared_error for train set is {mse_train}\")\n",
    "print(f\"The mean_squared_error for test set is {mse_test}\")"
   ]
  },
  {
   "cell_type": "code",
   "execution_count": 30,
   "id": "70e01e15-96ce-4c5d-9464-c13b408f5ad4",
   "metadata": {},
   "outputs": [],
   "source": [
    "import pickle\n",
    "import os\n",
    "\n",
    "# Define the relative path to the desired save location\n",
    "relative_path = os.path.join(os.getcwd(), 'rf_model.pkl')\n",
    "\n",
    "# Create directory if it does not exist\n",
    "os.makedirs(os.path.dirname(relative_path), exist_ok=True)\n",
    "\n",
    "# Save the model using pickle\n",
    "with open(relative_path, 'wb') as best_rfmodel:\n",
    "    pickle.dump(rf_model, best_rfmodel)"
   ]
  }
 ],
 "metadata": {
  "kernelspec": {
   "display_name": "Python 3 (ipykernel)",
   "language": "python",
   "name": "python3"
  },
  "language_info": {
   "codemirror_mode": {
    "name": "ipython",
    "version": 3
   },
   "file_extension": ".py",
   "mimetype": "text/x-python",
   "name": "python",
   "nbconvert_exporter": "python",
   "pygments_lexer": "ipython3",
   "version": "3.11.7"
  }
 },
 "nbformat": 4,
 "nbformat_minor": 5
}
